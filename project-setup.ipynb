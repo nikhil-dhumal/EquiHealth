{
 "cells": [
  {
   "cell_type": "code",
   "execution_count": 1,
   "id": "4bdf6b13",
   "metadata": {},
   "outputs": [
    {
     "name": "stdout",
     "output_type": "stream",
     "text": [
      "Switched to a new branch 'setup-project'\r\n"
     ]
    }
   ],
   "source": [
    "!git checkout -b setup-project"
   ]
  },
  {
   "cell_type": "code",
   "execution_count": 2,
   "id": "3696a301",
   "metadata": {},
   "outputs": [
    {
     "name": "stdout",
     "output_type": "stream",
     "text": [
      "  main\u001b[m\r\n",
      "* \u001b[32msetup-project\u001b[m\r\n"
     ]
    }
   ],
   "source": [
    "!git branch"
   ]
  },
  {
   "cell_type": "code",
   "execution_count": 3,
   "id": "1375d441",
   "metadata": {},
   "outputs": [],
   "source": [
    "mkdir frontend"
   ]
  },
  {
   "cell_type": "code",
   "execution_count": 4,
   "id": "3cd2d926",
   "metadata": {},
   "outputs": [],
   "source": [
    "mkdir backend"
   ]
  },
  {
   "cell_type": "code",
   "execution_count": 5,
   "id": "f25024bf",
   "metadata": {},
   "outputs": [
    {
     "name": "stdout",
     "output_type": "stream",
     "text": [
      "/home/ubuntu/IITB/SEM1/Projects/EquiHealth/backend\n"
     ]
    },
    {
     "name": "stderr",
     "output_type": "stream",
     "text": [
      "/usr/lib/python3/dist-packages/IPython/core/magics/osm.py:417: UserWarning: using dhist requires you to install the `pickleshare` library.\n",
      "  self.shell.db['dhist'] = compress_dhist(dhist)[-100:]\n"
     ]
    }
   ],
   "source": [
    "cd backend"
   ]
  },
  {
   "cell_type": "code",
   "execution_count": 6,
   "id": "5c4a1577",
   "metadata": {},
   "outputs": [],
   "source": [
    "!ls"
   ]
  },
  {
   "cell_type": "code",
   "execution_count": 7,
   "id": "5d300923",
   "metadata": {},
   "outputs": [],
   "source": [
    "!touch app.py\n",
    "!touch api.py"
   ]
  },
  {
   "cell_type": "code",
   "execution_count": 8,
   "id": "21486f70",
   "metadata": {},
   "outputs": [],
   "source": [
    "mkdir api"
   ]
  },
  {
   "cell_type": "code",
   "execution_count": 9,
   "id": "6b900fdb",
   "metadata": {},
   "outputs": [
    {
     "name": "stdout",
     "output_type": "stream",
     "text": [
      "/home/ubuntu/IITB/SEM1/Projects/EquiHealth/backend/api\n"
     ]
    }
   ],
   "source": [
    "cd api"
   ]
  },
  {
   "cell_type": "code",
   "execution_count": 11,
   "id": "444cd188",
   "metadata": {},
   "outputs": [],
   "source": [
    "!touch routes.py"
   ]
  },
  {
   "cell_type": "code",
   "execution_count": 12,
   "id": "ef4658cc",
   "metadata": {},
   "outputs": [
    {
     "data": {
      "text/plain": [
       "'/home/ubuntu/IITB/SEM1/Projects/EquiHealth/backend/api'"
      ]
     },
     "execution_count": 12,
     "metadata": {},
     "output_type": "execute_result"
    }
   ],
   "source": [
    "pwd"
   ]
  },
  {
   "cell_type": "code",
   "execution_count": 13,
   "id": "47d45d6f",
   "metadata": {},
   "outputs": [
    {
     "name": "stdout",
     "output_type": "stream",
     "text": [
      "On branch setup-project\r\n",
      "Untracked files:\r\n",
      "  (use \"git add <file>...\" to include in what will be committed)\r\n",
      "\t\u001b[31m../../.ipynb_checkpoints/\u001b[m\r\n",
      "\t\u001b[31m../\u001b[m\r\n",
      "\t\u001b[31m../../frontend/\u001b[m\r\n",
      "\t\u001b[31m../../project-setup.ipynb\u001b[m\r\n",
      "\r\n",
      "nothing added to commit but untracked files present (use \"git add\" to track)\r\n"
     ]
    }
   ],
   "source": [
    "!git status"
   ]
  },
  {
   "cell_type": "code",
   "execution_count": null,
   "id": "558d2752",
   "metadata": {},
   "outputs": [],
   "source": []
  }
 ],
 "metadata": {
  "kernelspec": {
   "display_name": "Python 3 (ipykernel)",
   "language": "python",
   "name": "python3"
  },
  "language_info": {
   "codemirror_mode": {
    "name": "ipython",
    "version": 3
   },
   "file_extension": ".py",
   "mimetype": "text/x-python",
   "name": "python",
   "nbconvert_exporter": "python",
   "pygments_lexer": "ipython3",
   "version": "3.12.3"
  }
 },
 "nbformat": 4,
 "nbformat_minor": 5
}
