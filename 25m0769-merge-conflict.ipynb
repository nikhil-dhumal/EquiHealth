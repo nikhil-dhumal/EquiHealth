{
 "cells": [
  {
   "cell_type": "code",
   "execution_count": 1,
   "id": "7751f1e1",
   "metadata": {},
   "outputs": [
    {
     "name": "stdout",
     "output_type": "stream",
     "text": [
      "  main\u001b[m\r\n",
      "* \u001b[32msetup-project\u001b[m\r\n"
     ]
    }
   ],
   "source": [
    "!git branch"
   ]
  },
  {
   "cell_type": "code",
   "execution_count": 8,
   "id": "155c1c39",
   "metadata": {},
   "outputs": [
    {
     "name": "stdout",
     "output_type": "stream",
     "text": [
      "On branch setup-project\r\n",
      "Changes to be committed:\r\n",
      "  (use \"git restore --staged <file>...\" to unstage)\r\n",
      "\t\u001b[32mmodified:   .gitignore\u001b[m\r\n",
      "\t\u001b[32mnew file:   frontend/.vite/deps/_metadata.json\u001b[m\r\n",
      "\t\u001b[32mnew file:   frontend/.vite/deps/package.json\u001b[m\r\n",
      "\r\n",
      "Changes not staged for commit:\r\n",
      "  (use \"git add <file>...\" to update what will be committed)\r\n",
      "  (use \"git restore <file>...\" to discard changes in working directory)\r\n",
      "\t\u001b[31mmodified:   .gitignore\u001b[m\r\n",
      "\t\u001b[31mmodified:   frontend/.gitignore\u001b[m\r\n",
      "\r\n"
     ]
    }
   ],
   "source": [
    "!git status"
   ]
  },
  {
   "cell_type": "code",
   "execution_count": 10,
   "id": "188901bc",
   "metadata": {},
   "outputs": [],
   "source": [
    "!git restore --staged frontend/.vite/deps/_metadata.json"
   ]
  },
  {
   "cell_type": "code",
   "execution_count": 11,
   "id": "5f9bc905",
   "metadata": {},
   "outputs": [],
   "source": [
    "!git restore --staged frontend/.vite/deps/package.json"
   ]
  },
  {
   "cell_type": "code",
   "execution_count": 12,
   "id": "e2ac397b",
   "metadata": {},
   "outputs": [
    {
     "name": "stdout",
     "output_type": "stream",
     "text": [
      "On branch setup-project\r\n",
      "Changes to be committed:\r\n",
      "  (use \"git restore --staged <file>...\" to unstage)\r\n",
      "\t\u001b[32mmodified:   .gitignore\u001b[m\r\n",
      "\r\n",
      "Changes not staged for commit:\r\n",
      "  (use \"git add <file>...\" to update what will be committed)\r\n",
      "  (use \"git restore <file>...\" to discard changes in working directory)\r\n",
      "\t\u001b[31mmodified:   .gitignore\u001b[m\r\n",
      "\t\u001b[31mmodified:   frontend/.gitignore\u001b[m\r\n",
      "\r\n"
     ]
    }
   ],
   "source": [
    "!git status"
   ]
  },
  {
   "cell_type": "code",
   "execution_count": 13,
   "id": "75b404f3",
   "metadata": {},
   "outputs": [],
   "source": [
    "!git add -A"
   ]
  },
  {
   "cell_type": "code",
   "execution_count": 14,
   "id": "507e994b",
   "metadata": {},
   "outputs": [
    {
     "name": "stdout",
     "output_type": "stream",
     "text": [
      "On branch setup-project\r\n",
      "Changes to be committed:\r\n",
      "  (use \"git restore --staged <file>...\" to unstage)\r\n",
      "\t\u001b[32mmodified:   .gitignore\u001b[m\r\n",
      "\t\u001b[32mmodified:   frontend/.gitignore\u001b[m\r\n",
      "\r\n"
     ]
    }
   ],
   "source": [
    "!git status"
   ]
  },
  {
   "cell_type": "code",
   "execution_count": 15,
   "id": "2c45ae8d",
   "metadata": {},
   "outputs": [
    {
     "name": "stdout",
     "output_type": "stream",
     "text": [
      "[setup-project 6188c84] Updated .gitignore\r\n",
      " 2 files changed, 5 insertions(+), 1 deletion(-)\r\n"
     ]
    }
   ],
   "source": [
    "!git commit -m \"Updated .gitignore\" "
   ]
  },
  {
   "cell_type": "code",
   "execution_count": 16,
   "id": "be29db74",
   "metadata": {},
   "outputs": [
    {
     "name": "stdout",
     "output_type": "stream",
     "text": [
      "On branch setup-project\r\n",
      "nothing to commit, working tree clean\r\n"
     ]
    }
   ],
   "source": [
    "!git status"
   ]
  },
  {
   "cell_type": "code",
   "execution_count": 17,
   "id": "58f296f0",
   "metadata": {},
   "outputs": [
    {
     "name": "stdout",
     "output_type": "stream",
     "text": [
      "Switched to branch 'main'\r\n",
      "Your branch is up to date with 'origin/main'.\r\n"
     ]
    }
   ],
   "source": [
    "!git checkout main"
   ]
  },
  {
   "cell_type": "code",
   "execution_count": 19,
   "id": "fae3542e",
   "metadata": {},
   "outputs": [
    {
     "name": "stdout",
     "output_type": "stream",
     "text": [
      "remote: Enumerating objects: 36, done.\u001b[K\n",
      "remote: Counting objects: 100% (35/35), done.\u001b[K\n",
      "remote: Compressing objects: 100% (16/16), done.\u001b[K\n",
      "remote: Total 28 (delta 14), reused 25 (delta 11), pack-reused 0 (from 0)\u001b[K\n",
      "Unpacking objects: 100% (28/28), 58.63 KiB | 215.00 KiB/s, done.\n",
      "From github.com:nikhil-dhumal/EquiHealth\n",
      " * branch            main       -> FETCH_HEAD\n",
      "   fa866a6..5e2e290  main       -> origin/main\n",
      "Updating fa866a6..5e2e290\n",
      "Fast-forward\n",
      " .gitignore                                         |   2 \u001b[32m+\u001b[m\u001b[31m-\u001b[m\n",
      " .../25m0769-project-setup-checkpoint.ipynb         |   6 \u001b[31m-----\u001b[m\n",
      " docs/images/ui-architecture-diagram.png            | Bin \u001b[31m0\u001b[m -> \u001b[32m81383\u001b[m bytes\n",
      " docs/ui-architecture.md                            |  26 \u001b[32m+++++++++++++++++++++\u001b[m\n",
      " frontend/index.html                                |   2 \u001b[32m+\u001b[m\u001b[31m-\u001b[m\n",
      " ..._health_data.ipynb => scrape-health-data.ipynb} |   0\n",
      " 6 files changed, 28 insertions(+), 8 deletions(-)\n",
      " delete mode 100644 .ipynb_checkpoints/25m0769-project-setup-checkpoint.ipynb\n",
      " create mode 100644 docs/images/ui-architecture-diagram.png\n",
      " create mode 100644 docs/ui-architecture.md\n",
      " rename scripts/{scrape_health_data.ipynb => scrape-health-data.ipynb} (100%)\n"
     ]
    }
   ],
   "source": [
    "!git pull origin main"
   ]
  },
  {
   "cell_type": "code",
   "execution_count": null,
   "id": "9f4d5e90",
   "metadata": {},
   "outputs": [],
   "source": []
  }
 ],
 "metadata": {
  "kernelspec": {
   "display_name": "Python 3 (ipykernel)",
   "language": "python",
   "name": "python3"
  },
  "language_info": {
   "codemirror_mode": {
    "name": "ipython",
    "version": 3
   },
   "file_extension": ".py",
   "mimetype": "text/x-python",
   "name": "python",
   "nbconvert_exporter": "python",
   "pygments_lexer": "ipython3",
   "version": "3.12.3"
  }
 },
 "nbformat": 4,
 "nbformat_minor": 5
}
