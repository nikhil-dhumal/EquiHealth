{
 "cells": [
  {
   "cell_type": "code",
   "execution_count": 1,
   "id": "d6c06b0c",
   "metadata": {},
   "outputs": [
    {
     "name": "stdout",
     "output_type": "stream",
     "text": [
      "  main\u001b[m\r\n",
      "* \u001b[32msetup-project\u001b[m\r\n"
     ]
    }
   ],
   "source": [
    "!git branch"
   ]
  },
  {
   "cell_type": "code",
   "execution_count": 8,
   "id": "07e7e5c3",
   "metadata": {},
   "outputs": [
    {
     "name": "stdout",
     "output_type": "stream",
     "text": [
      "On branch setup-project\r\n",
      "Changes to be committed:\r\n",
      "  (use \"git restore --staged <file>...\" to unstage)\r\n",
      "\t\u001b[32mmodified:   .gitignore\u001b[m\r\n",
      "\t\u001b[32mnew file:   frontend/.vite/deps/_metadata.json\u001b[m\r\n",
      "\t\u001b[32mnew file:   frontend/.vite/deps/package.json\u001b[m\r\n",
      "\r\n",
      "Changes not staged for commit:\r\n",
      "  (use \"git add <file>...\" to update what will be committed)\r\n",
      "  (use \"git restore <file>...\" to discard changes in working directory)\r\n",
      "\t\u001b[31mmodified:   .gitignore\u001b[m\r\n",
      "\t\u001b[31mmodified:   frontend/.gitignore\u001b[m\r\n",
      "\r\n"
     ]
    }
   ],
   "source": [
    "!git status"
   ]
  },
  {
   "cell_type": "code",
   "execution_count": 10,
   "id": "f10bfcc4",
   "metadata": {},
   "outputs": [],
   "source": [
    "!git restore --staged frontend/.vite/deps/_metadata.json"
   ]
  },
  {
   "cell_type": "code",
   "execution_count": 11,
   "id": "0a6365eb",
   "metadata": {},
   "outputs": [],
   "source": [
    "!git restore --staged frontend/.vite/deps/package.json"
   ]
  },
  {
   "cell_type": "code",
   "execution_count": 12,
   "id": "acc19be7",
   "metadata": {},
   "outputs": [
    {
     "name": "stdout",
     "output_type": "stream",
     "text": [
      "On branch setup-project\r\n",
      "Changes to be committed:\r\n",
      "  (use \"git restore --staged <file>...\" to unstage)\r\n",
      "\t\u001b[32mmodified:   .gitignore\u001b[m\r\n",
      "\r\n",
      "Changes not staged for commit:\r\n",
      "  (use \"git add <file>...\" to update what will be committed)\r\n",
      "  (use \"git restore <file>...\" to discard changes in working directory)\r\n",
      "\t\u001b[31mmodified:   .gitignore\u001b[m\r\n",
      "\t\u001b[31mmodified:   frontend/.gitignore\u001b[m\r\n",
      "\r\n"
     ]
    }
   ],
   "source": [
    "!git status"
   ]
  },
  {
   "cell_type": "code",
   "execution_count": 13,
   "id": "1d0b6c46",
   "metadata": {},
   "outputs": [],
   "source": [
    "!git add -A"
   ]
  },
  {
   "cell_type": "code",
   "execution_count": 14,
   "id": "6cd6f6a2",
   "metadata": {},
   "outputs": [
    {
     "name": "stdout",
     "output_type": "stream",
     "text": [
      "On branch setup-project\r\n",
      "Changes to be committed:\r\n",
      "  (use \"git restore --staged <file>...\" to unstage)\r\n",
      "\t\u001b[32mmodified:   .gitignore\u001b[m\r\n",
      "\t\u001b[32mmodified:   frontend/.gitignore\u001b[m\r\n",
      "\r\n"
     ]
    }
   ],
   "source": [
    "!git status"
   ]
  },
  {
   "cell_type": "code",
   "execution_count": 15,
   "id": "28ce01c6",
   "metadata": {},
   "outputs": [
    {
     "name": "stdout",
     "output_type": "stream",
     "text": [
      "[setup-project 6188c84] Updated .gitignore\r\n",
      " 2 files changed, 5 insertions(+), 1 deletion(-)\r\n"
     ]
    }
   ],
   "source": [
    "!git commit -m \"Updated .gitignore\" "
   ]
  },
  {
   "cell_type": "code",
   "execution_count": 16,
   "id": "d80eb2d9",
   "metadata": {},
   "outputs": [
    {
     "name": "stdout",
     "output_type": "stream",
     "text": [
      "On branch setup-project\r\n",
      "nothing to commit, working tree clean\r\n"
     ]
    }
   ],
   "source": [
    "!git status"
   ]
  },
  {
   "cell_type": "code",
   "execution_count": 17,
   "id": "cfaa5206",
   "metadata": {},
   "outputs": [
    {
     "name": "stdout",
     "output_type": "stream",
     "text": [
      "Switched to branch 'main'\r\n",
      "Your branch is up to date with 'origin/main'.\r\n"
     ]
    }
   ],
   "source": [
    "!git checkout main"
   ]
  },
  {
   "cell_type": "code",
   "execution_count": 19,
   "id": "95aa5d9f",
   "metadata": {},
   "outputs": [
    {
     "name": "stdout",
     "output_type": "stream",
     "text": [
      "remote: Enumerating objects: 36, done.\u001b[K\n",
      "remote: Counting objects: 100% (35/35), done.\u001b[K\n",
      "remote: Compressing objects: 100% (16/16), done.\u001b[K\n",
      "remote: Total 28 (delta 14), reused 25 (delta 11), pack-reused 0 (from 0)\u001b[K\n",
      "Unpacking objects: 100% (28/28), 58.63 KiB | 215.00 KiB/s, done.\n",
      "From github.com:nikhil-dhumal/EquiHealth\n",
      " * branch            main       -> FETCH_HEAD\n",
      "   fa866a6..5e2e290  main       -> origin/main\n",
      "Updating fa866a6..5e2e290\n",
      "Fast-forward\n",
      " .gitignore                                         |   2 \u001b[32m+\u001b[m\u001b[31m-\u001b[m\n",
      " .../25m0769-project-setup-checkpoint.ipynb         |   6 \u001b[31m-----\u001b[m\n",
      " docs/images/ui-architecture-diagram.png            | Bin \u001b[31m0\u001b[m -> \u001b[32m81383\u001b[m bytes\n",
      " docs/ui-architecture.md                            |  26 \u001b[32m+++++++++++++++++++++\u001b[m\n",
      " frontend/index.html                                |   2 \u001b[32m+\u001b[m\u001b[31m-\u001b[m\n",
      " ..._health_data.ipynb => scrape-health-data.ipynb} |   0\n",
      " 6 files changed, 28 insertions(+), 8 deletions(-)\n",
      " delete mode 100644 .ipynb_checkpoints/25m0769-project-setup-checkpoint.ipynb\n",
      " create mode 100644 docs/images/ui-architecture-diagram.png\n",
      " create mode 100644 docs/ui-architecture.md\n",
      " rename scripts/{scrape_health_data.ipynb => scrape-health-data.ipynb} (100%)\n"
     ]
    }
   ],
   "source": [
    "!git pull origin main"
   ]
  },
  {
   "cell_type": "code",
   "execution_count": 20,
   "id": "78228cbd",
   "metadata": {},
   "outputs": [
    {
     "name": "stdout",
     "output_type": "stream",
     "text": [
      "* \u001b[32mmain\u001b[m\r\n",
      "  setup-project\u001b[m\r\n"
     ]
    }
   ],
   "source": [
    "!git branch"
   ]
  },
  {
   "cell_type": "code",
   "execution_count": 21,
   "id": "1c48b3aa",
   "metadata": {},
   "outputs": [
    {
     "name": "stdout",
     "output_type": "stream",
     "text": [
      "On branch main\r\n",
      "Your branch is up to date with 'origin/main'.\r\n",
      "\r\n",
      "Changes not staged for commit:\r\n",
      "  (use \"git add <file>...\" to update what will be committed)\r\n",
      "  (use \"git restore <file>...\" to discard changes in working directory)\r\n",
      "\t\u001b[31mmodified:   .gitignore\u001b[m\r\n",
      "\r\n",
      "Untracked files:\r\n",
      "  (use \"git add <file>...\" to include in what will be committed)\r\n",
      "\t\u001b[31m25m0769-merge-conflict.ipynb\u001b[m\r\n",
      "\t\u001b[31mfrontend/.vite/\u001b[m\r\n",
      "\r\n",
      "no changes added to commit (use \"git add\" and/or \"git commit -a\")\r\n"
     ]
    }
   ],
   "source": [
    "!git status"
   ]
  },
  {
   "cell_type": "code",
   "execution_count": 23,
   "id": "e7763d99",
   "metadata": {},
   "outputs": [],
   "source": [
    "!git add -A"
   ]
  },
  {
   "cell_type": "code",
   "execution_count": 24,
   "id": "5a5a0b5a",
   "metadata": {},
   "outputs": [
    {
     "name": "stdout",
     "output_type": "stream",
     "text": [
      "[main 07fe53c] Added env to gitignore\r\n",
      " 4 files changed, 271 insertions(+), 1 deletion(-)\r\n",
      " create mode 100644 25m0769-merge-conflict.ipynb\r\n",
      " create mode 100644 frontend/.vite/deps/_metadata.json\r\n",
      " create mode 100644 frontend/.vite/deps/package.json\r\n"
     ]
    }
   ],
   "source": [
    "!git commit -m \"Added env to gitignore\""
   ]
  },
  {
   "cell_type": "code",
   "execution_count": 26,
   "id": "271e3640",
   "metadata": {},
   "outputs": [
    {
     "name": "stdout",
     "output_type": "stream",
     "text": [
      "Auto-merging .gitignore\r\n",
      "CONFLICT (content): Merge conflict in .gitignore\r\n",
      "Automatic merge failed; fix conflicts and then commit the result.\r\n"
     ]
    }
   ],
   "source": [
    "!git merge setup-project"
   ]
  },
  {
   "cell_type": "markdown",
   "id": "2d7283cd",
   "metadata": {},
   "source": [
    "25m0766_lab5.ipynb\n",
    "25m0769-project-setup.ipynb\n",
    "<<<<<<< HEAD\n",
    ".ipynb_checkpoints/\n",
    ".env\n",
    "=======\n",
    "25m0769-merge-conflict.ipynb\n",
    ".ipynb_checkpoints/\n",
    "*.ipynb\n",
    ">>>>>>> setup-project"
   ]
  },
  {
   "cell_type": "code",
   "execution_count": 29,
   "id": "fc8016c6",
   "metadata": {},
   "outputs": [
    {
     "name": "stdout",
     "output_type": "stream",
     "text": [
      "On branch main\r\n",
      "Your branch is ahead of 'origin/main' by 1 commit.\r\n",
      "  (use \"git push\" to publish your local commits)\r\n",
      "\r\n",
      "All conflicts fixed but you are still merging.\r\n",
      "  (use \"git commit\" to conclude merge)\r\n",
      "\r\n",
      "Changes to be committed:\r\n",
      "\t\u001b[32mmodified:   .gitignore\u001b[m\r\n",
      "\t\u001b[32mmodified:   frontend/.gitignore\u001b[m\r\n",
      "\r\n",
      "Changes not staged for commit:\r\n",
      "  (use \"git add <file>...\" to update what will be committed)\r\n",
      "  (use \"git restore <file>...\" to discard changes in working directory)\r\n",
      "\t\u001b[31mmodified:   25m0769-merge-conflict.ipynb\u001b[m\r\n",
      "\r\n"
     ]
    }
   ],
   "source": [
    "!git status"
   ]
  },
  {
   "cell_type": "code",
   "execution_count": 30,
   "id": "d71ffeee",
   "metadata": {},
   "outputs": [
    {
     "name": "stdout",
     "output_type": "stream",
     "text": [
      "[main 52f92a8] Resolved merge conflict\r\n"
     ]
    }
   ],
   "source": [
    "!git commit -m \"Resolved merge conflict\""
   ]
  },
  {
   "cell_type": "code",
   "execution_count": 31,
   "id": "8e88f8bd",
   "metadata": {},
   "outputs": [
    {
     "name": "stdout",
     "output_type": "stream",
     "text": [
      "On branch main\r\n",
      "Your branch is ahead of 'origin/main' by 3 commits.\r\n",
      "  (use \"git push\" to publish your local commits)\r\n",
      "\r\n",
      "Changes not staged for commit:\r\n",
      "  (use \"git add <file>...\" to update what will be committed)\r\n",
      "  (use \"git restore <file>...\" to discard changes in working directory)\r\n",
      "\t\u001b[31mmodified:   25m0769-merge-conflict.ipynb\u001b[m\r\n",
      "\r\n",
      "no changes added to commit (use \"git add\" and/or \"git commit -a\")\r\n"
     ]
    }
   ],
   "source": [
    "!git status"
   ]
  },
  {
   "cell_type": "code",
   "execution_count": 32,
   "id": "a6f6fbe1",
   "metadata": {},
   "outputs": [
    {
     "name": "stdout",
     "output_type": "stream",
     "text": [
      "* \u001b[32mmain\u001b[m\r\n",
      "  setup-project\u001b[m\r\n"
     ]
    }
   ],
   "source": [
    "!git branch"
   ]
  },
  {
   "cell_type": "code",
   "execution_count": null,
   "id": "8ac3e17a",
   "metadata": {},
   "outputs": [],
   "source": []
  }
 ],
 "metadata": {
  "kernelspec": {
   "display_name": "Python 3 (ipykernel)",
   "language": "python",
   "name": "python3"
  },
  "language_info": {
   "codemirror_mode": {
    "name": "ipython",
    "version": 3
   },
   "file_extension": ".py",
   "mimetype": "text/x-python",
   "name": "python",
   "nbconvert_exporter": "python",
   "pygments_lexer": "ipython3",
   "version": "3.12.3"
  }
 },
 "nbformat": 4,
 "nbformat_minor": 5
}
